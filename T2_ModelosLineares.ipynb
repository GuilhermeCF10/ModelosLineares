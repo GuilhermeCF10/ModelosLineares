{
  "cells": [
    {
      "cell_type": "markdown",
      "metadata": {
        "id": "M6R6pPNV5Q0T"
      },
      "source": []
    },
    {
      "cell_type": "markdown",
      "metadata": {
        "id": "kYVxkT9mBMlt"
      },
      "source": [
        "# Começando\n"
      ]
    },
    {
      "cell_type": "code",
      "execution_count": null,
      "metadata": {
        "id": "cxfy3MhaBP12"
      },
      "outputs": [],
      "source": [
        "import matplotlib.pyplot as plt\n",
        "import pandas as pd \n",
        "import math\n",
        "import numpy as np\n",
        "from mpl_toolkits.mplot3d import Axes3D"
      ]
    },
    {
      "cell_type": "markdown",
      "metadata": {
        "id": "l0DAiuUDCCdm"
      },
      "source": [
        "## Pegando dados"
      ]
    },
    {
      "cell_type": "code",
      "execution_count": null,
      "metadata": {
        "id": "-_v3pJjtCECt"
      },
      "outputs": [],
      "source": [
        "dados_csv = pd.read_csv(\"population_by_country_2020.csv\")\n",
        "x1_csv, x2_csv, y_csv = dados_csv[\"Population (2020)\"], dados_csv[\"Density (P/Km²)\"], dados_csv[\"Land Area (Km²)\"]\n",
        "\n",
        "x1, x2, y = [], [], []\n",
        "\n",
        "for i in range(x1_csv.shape[0]):\n",
        "    x1.append(x1_csv[i])\n",
        "    x2.append(x2_csv[i])\n",
        "    y.append(y_csv[i])"
      ]
    },
    {
      "attachments": {},
      "cell_type": "markdown",
      "metadata": {},
      "source": [
        "# 1) "
      ]
    },
    {
      "attachments": {},
      "cell_type": "markdown",
      "metadata": {
        "id": "hOplPWHVCll2"
      },
      "source": [
        "## a)Faça o gráfico de dispersão bidimensional (XY) entre a variável y e cada uma das variáveis\n",
        "regressoras X1,..., Xp (p gráficos separados)"
      ]
    },
    {
      "attachments": {},
      "cell_type": "markdown",
      "metadata": {},
      "source": [
        "### Gráfico do Conjunto de Dados X1Y"
      ]
    },
    {
      "cell_type": "code",
      "execution_count": null,
      "metadata": {
        "colab": {
          "base_uri": "https://localhost:8080/"
        },
        "id": "g6ltChdCCobd",
        "outputId": "19986798-171d-4884-c448-9d66bd5516f2"
      },
      "outputs": [],
      "source": [
        "plt.scatter(x1,y)"
      ]
    },
    {
      "attachments": {},
      "cell_type": "markdown",
      "metadata": {},
      "source": [
        "### Gráfico do Conjunto de Dados X2Y"
      ]
    },
    {
      "cell_type": "code",
      "execution_count": null,
      "metadata": {},
      "outputs": [],
      "source": [
        "plt.scatter(x2,y)"
      ]
    },
    {
      "attachments": {},
      "cell_type": "markdown",
      "metadata": {},
      "source": [
        "## b) Estime a correlação entre a variável Y e cada uma das variáveis regressoras (ρ(Y,Xi)). Comente."
      ]
    },
    {
      "attachments": {},
      "cell_type": "markdown",
      "metadata": {
        "id": "M2avFQqlBZ-j"
      },
      "source": [
        "### Função de Coeficiente de Correlação"
      ]
    },
    {
      "cell_type": "code",
      "execution_count": null,
      "metadata": {},
      "outputs": [],
      "source": [
        "def CoeficienteCorrelacao(x, y):\n",
        "  Sx = 0\n",
        "  Sy = 0\n",
        "  Sxy = 0\n",
        "  Sxx = 0\n",
        "  Syy = 0\n",
        "  x_x_med = []\n",
        "  y_y_med = []\n",
        "  xx = []\n",
        "  yy = []\n",
        "  xy = []\n",
        "\n",
        "  for i in range(len(x)):\n",
        "      Sx += x[i]\n",
        "      Sy += y[i]\n",
        "  x_med = Sx/len(x)\n",
        "  y_med = Sy/len(y)\n",
        "\n",
        "  for i in range(len(x)):\n",
        "      x_x_med.append((x[i] - x_med))\n",
        "      y_y_med.append((y[i] - y_med))\n",
        "\n",
        "  for i in range(len(x)):\n",
        "      xx.append(x_x_med[i]**2)\n",
        "      yy.append(y_y_med[i]**2)\n",
        "      xy.append(y_y_med[i]*x_x_med[i])\n",
        "\n",
        "  # Calculo do Rho\n",
        "  for i in range(len(x)):\n",
        "      Sxy += xy[i]\n",
        "      Sxx += xx[i]\n",
        "      Syy += yy[i]\n",
        "  \n",
        "  return { 'rho': Sxy / math.sqrt(Sxx*Syy), 'sxx': Sxx, 'sxy': Sxy, 'xMed': x_med, 'yMed': y_med} # RHO\n"
      ]
    },
    {
      "attachments": {},
      "cell_type": "markdown",
      "metadata": {},
      "source": [
        "### Correlação entre X1 e Y"
      ]
    },
    {
      "cell_type": "code",
      "execution_count": null,
      "metadata": {
        "colab": {
          "base_uri": "https://localhost:8080/"
        },
        "id": "ViF4L4_kBg_T",
        "outputId": "8b766e59-eceb-4791-d1f4-63c41e2d3c62"
      },
      "outputs": [],
      "source": [
        "x1_rho = CoeficienteCorrelacao(x1,y)['rho']\n",
        "print(f\"O valor da correlação entre X1 e Y é: {x1_rho}\")"
      ]
    },
    {
      "attachments": {},
      "cell_type": "markdown",
      "metadata": {},
      "source": [
        "Comentário do resultado"
      ]
    },
    {
      "attachments": {},
      "cell_type": "markdown",
      "metadata": {},
      "source": [
        "### Correlação entre X2 e Y"
      ]
    },
    {
      "cell_type": "code",
      "execution_count": null,
      "metadata": {},
      "outputs": [],
      "source": [
        "x2_rho = CoeficienteCorrelacao(x2,y)['rho']\n",
        "print(f\"O valor da correlação entre X1 e Y é: {x2_rho}\")"
      ]
    },
    {
      "attachments": {},
      "cell_type": "markdown",
      "metadata": {},
      "source": [
        "Comentário do resultado"
      ]
    },
    {
      "attachments": {},
      "cell_type": "markdown",
      "metadata": {},
      "source": [
        "## c) Calcule o coeficiente de determinação R²(Y,Xi) entre a variável Y e cada uma das variáveis regressoras. Comente o resultado."
      ]
    },
    {
      "attachments": {},
      "cell_type": "markdown",
      "metadata": {},
      "source": [
        "### Coeficiente de Determinação entre X1 e Y"
      ]
    },
    {
      "cell_type": "code",
      "execution_count": null,
      "metadata": {},
      "outputs": [],
      "source": [
        "coefDeterminationX1 = math.pow(x1_rho, 2)\n",
        "print(f\"O valor do coeficiente da determinação entre X1 e Y é: {coefDeterminationX1}\")"
      ]
    },
    {
      "attachments": {},
      "cell_type": "markdown",
      "metadata": {},
      "source": [
        "Comentário do resultado"
      ]
    },
    {
      "attachments": {},
      "cell_type": "markdown",
      "metadata": {},
      "source": [
        "### Coeficiente de Determinação entre X2 e Y"
      ]
    },
    {
      "cell_type": "code",
      "execution_count": null,
      "metadata": {},
      "outputs": [],
      "source": [
        "coefDeterminationX2 = math.pow(x2_rho, 2)\n",
        "print(f\"O valor do coeficiente da determinação entre X1 e Y é: {coefDeterminationX2}\")"
      ]
    },
    {
      "attachments": {},
      "cell_type": "markdown",
      "metadata": {},
      "source": [
        "Comentário do resultado"
      ]
    },
    {
      "attachments": {},
      "cell_type": "markdown",
      "metadata": {},
      "source": [
        "## d) Encontre o hiperplano de quadrados mínimos (estime β0, β1, ..., βp)."
      ]
    },
    {
      "attachments": {},
      "cell_type": "markdown",
      "metadata": {},
      "source": [
        "Revisar"
      ]
    },
    {
      "attachments": {},
      "cell_type": "markdown",
      "metadata": {},
      "source": [
        "### Função para calcular Beta Chápeu"
      ]
    },
    {
      "cell_type": "code",
      "execution_count": null,
      "metadata": {},
      "outputs": [],
      "source": [
        "def CalculaBeta(x, y):\n",
        "  matrix = np.array(x)\n",
        "  y = np.array(y)\n",
        "\n",
        "  transposta = np.transpose(matrix)\n",
        "  mult = np.dot(transposta,matrix)\n",
        "  inversa = np.linalg.inv(mult)\n",
        "  mult2 = np.dot(inversa, transposta)\n",
        "\n",
        "  return np.dot(mult2,y) #Beta"
      ]
    },
    {
      "attachments": {},
      "cell_type": "markdown",
      "metadata": {},
      "source": [
        "### Valores estimados de Beta Chápeu"
      ]
    },
    {
      "cell_type": "code",
      "execution_count": null,
      "metadata": {},
      "outputs": [],
      "source": [
        "base = np.zeros(len(x1))\n",
        "for i in range(len(base)):\n",
        "    base[i] = 1\n",
        "\n",
        "x = []\n",
        "\n",
        "for i in range(len(x1)):\n",
        "    x.append([base[i], x1[i], x2[i]])\n",
        "\n",
        "betas = CalculaBeta(x, y)\n",
        "\n",
        "print(\"Os Valores de Beta são:\\n\")\n",
        "\n",
        "for beta in betas:\n",
        "    print(f\"\\t{beta}\", end=\"\")"
      ]
    },
    {
      "attachments": {},
      "cell_type": "markdown",
      "metadata": {},
      "source": [
        "### Plotando o hiperplano\n",
        "- Deixamos aqui um arquivo .py como gráfico pois esse seria interessante ver em 3d e poder mexer porém no arquivo .ipynb isso não é possível\n"
      ]
    },
    {
      "cell_type": "code",
      "execution_count": null,
      "metadata": {},
      "outputs": [],
      "source": [
        "plothiper = plt.figure()\n",
        "grafico = plothiper.gca(projection='3d')\n",
        "\n",
        "x1g = np.linspace(-10,10,10)\n",
        "x2g = np.linspace(-10,10,10)\n",
        "zg = np.linspace(-10,10,10)\n",
        "\n",
        "XG, YG = np.meshgrid(x1g, x2g)\n",
        "Z = betas[0] + XG*betas[1] + YG*betas[2]\n",
        "\n",
        "# grafico = plt.axes(projection='3d')\n",
        "\n",
        "grafico.plot_wireframe(XG,YG,Z)\n",
        "plt.show()"
      ]
    },
    {
      "attachments": {},
      "cell_type": "markdown",
      "metadata": {},
      "source": [
        "## e) Calcule os valores estimados de y (ou seja, ŷ) através do hiperplano estimado no item anterior."
      ]
    },
    {
      "cell_type": "code",
      "execution_count": null,
      "metadata": {},
      "outputs": [],
      "source": [
        "yChapeu = []\n",
        "\n",
        "for i in range(x1_csv.shape[0]):\n",
        "    yChapeu.append(betas[0] + betas[1]*x1[i] + betas[2]*x2[i])\n",
        "\n",
        "print(yChapeu)"
      ]
    },
    {
      "attachments": {},
      "cell_type": "markdown",
      "metadata": {},
      "source": [
        "## f) Calcule os resíduos, ou seja, o erro de estimação y-ŷ."
      ]
    },
    {
      "cell_type": "code",
      "execution_count": null,
      "metadata": {},
      "outputs": [],
      "source": [
        "residuos = []\n",
        "\n",
        "for i in range(x1_csv.shape[0]):\n",
        "    residuos.append(y[i]-yChapeu[i])\n",
        "\n",
        "print(residuos)"
      ]
    },
    {
      "attachments": {},
      "cell_type": "markdown",
      "metadata": {},
      "source": [
        "## g) Faça o histograma dos erros de estimação encontrados no item anterior. Comente sobre sua característica."
      ]
    },
    {
      "cell_type": "code",
      "execution_count": null,
      "metadata": {},
      "outputs": [],
      "source": [
        "fig, axe = plt.subplots(figsize=(20,10))\n",
        "plt.hist(yChapeu, bins=100)\n",
        "plt.grid(True)\n",
        "# plt.xticks(np.arange(-400000, 900000, 100000))\n",
        "plt.yticks(np.arange(0, 85, 5))\n",
        "plt.show()"
      ]
    }
  ],
  "metadata": {
    "colab": {
      "collapsed_sections": [
        "gAJ5Ew6oCNas",
        "Y1m8nDDpCZCd",
        "hOplPWHVCll2"
      ],
      "provenance": []
    },
    "kernelspec": {
      "display_name": "Python 3",
      "language": "python",
      "name": "python3"
    },
    "language_info": {
      "codemirror_mode": {
        "name": "ipython",
        "version": 3
      },
      "file_extension": ".py",
      "mimetype": "text/x-python",
      "name": "python",
      "nbconvert_exporter": "python",
      "pygments_lexer": "ipython3",
      "version": "3.9.13 (tags/v3.9.13:6de2ca5, May 17 2022, 16:36:42) [MSC v.1929 64 bit (AMD64)]"
    },
    "vscode": {
      "interpreter": {
        "hash": "193c86f2a5d11ecf02cefa4b7a4d03add9aa5fac1aaefae7fbafe5c005104cd1"
      }
    }
  },
  "nbformat": 4,
  "nbformat_minor": 0
}
