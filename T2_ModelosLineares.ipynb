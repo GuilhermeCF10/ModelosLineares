{
  "cells": [
    {
      "cell_type": "markdown",
      "metadata": {
        "id": "M6R6pPNV5Q0T"
      },
      "source": []
    },
    {
      "cell_type": "markdown",
      "metadata": {
        "id": "kYVxkT9mBMlt"
      },
      "source": [
        "# Começando\n"
      ]
    },
    {
      "cell_type": "code",
      "execution_count": 64,
      "metadata": {
        "id": "cxfy3MhaBP12"
      },
      "outputs": [],
      "source": [
        "import matplotlib.pyplot as plt\n",
        "import pandas as pd \n",
        "import math\n",
        "import numpy as np\n",
        "from mpl_toolkits.mplot3d import Axes3D"
      ]
    },
    {
      "cell_type": "markdown",
      "metadata": {
        "id": "l0DAiuUDCCdm"
      },
      "source": [
        "## Pegando dados"
      ]
    },
    {
      "cell_type": "code",
      "execution_count": 65,
      "metadata": {
        "id": "-_v3pJjtCECt"
      },
      "outputs": [],
      "source": [
        "dados_csv = pd.read_csv(\"population_by_country_2020.csv\")\n",
        "x1_csv, x2_csv, y_csv = dados_csv[\"Population (2020)\"], dados_csv[\"Density (P/Km²)\"], dados_csv[\"Land Area (Km²)\"]\n",
        "\n",
        "x1, x2, y = [], [], []\n",
        "\n",
        "for i in range(x1_csv.shape[0]):\n",
        "    x1.append(x1_csv[i])\n",
        "    x2.append(x2_csv[i])\n",
        "    y.append(y_csv[i])"
      ]
    },
    {
      "attachments": {},
      "cell_type": "markdown",
      "metadata": {},
      "source": [
        "# 1) "
      ]
    },
    {
      "attachments": {},
      "cell_type": "markdown",
      "metadata": {
        "id": "hOplPWHVCll2"
      },
      "source": [
        "## a)Faça o gráfico de dispersão bidimensional (XY) entre a variável y e cada uma das variáveis\n",
        "regressoras X1,..., Xp (p gráficos separados)"
      ]
    },
    {
      "attachments": {},
      "cell_type": "markdown",
      "metadata": {},
      "source": [
        "### Gráfico do Conjunto de Dados X1Y"
      ]
    },
    {
      "cell_type": "code",
      "execution_count": 66,
      "metadata": {
        "colab": {
          "base_uri": "https://localhost:8080/"
        },
        "id": "g6ltChdCCobd",
        "outputId": "19986798-171d-4884-c448-9d66bd5516f2"
      },
      "outputs": [
        {
          "data": {
            "text/plain": [
              "<matplotlib.collections.PathCollection at 0x2bc0c3c4fa0>"
            ]
          },
          "execution_count": 66,
          "metadata": {},
          "output_type": "execute_result"
        },
        {
          "data": {
            "image/png": "[encoded data removed]",
            "text/plain": [
              "<Figure size 432x288 with 1 Axes>"
            ]
          },
          "metadata": {
            "needs_background": "light"
          },
          "output_type": "display_data"
        }
      ],
      "source": [
        "plt.scatter(x1,y)"
      ]
    },
    {
      "attachments": {},
      "cell_type": "markdown",
      "metadata": {},
      "source": [
        "### Gráfico do Conjunto de Dados X2Y"
      ]
    },
    {
      "cell_type": "code",
      "execution_count": 67,
      "metadata": {},
      "outputs": [
        {
          "data": {
            "text/plain": [
              "<matplotlib.collections.PathCollection at 0x2bc0c305760>"
            ]
          },
          "execution_count": 67,
          "metadata": {},
          "output_type": "execute_result"
        },
        {
          "data": {
            "image/png": "[encoded data removed]",
            "text/plain": [
              "<Figure size 432x288 with 1 Axes>"
            ]
          },
          "metadata": {
            "needs_background": "light"
          },
          "output_type": "display_data"
        }
      ],
      "source": [
        "plt.scatter(x2,y)"
      ]
    },
    {
      "attachments": {},
      "cell_type": "markdown",
      "metadata": {},
      "source": [
        "## b) Estime a correlação entre a variável Y e cada uma das variáveis regressoras (ρ(Y,Xi)). Comente."
      ]
    },
    {
      "attachments": {},
      "cell_type": "markdown",
      "metadata": {
        "id": "M2avFQqlBZ-j"
      },
      "source": [
        "### Função de Coeficiente de Correlação"
      ]
    },
    {
      "cell_type": "code",
      "execution_count": 68,
      "metadata": {},
      "outputs": [],
      "source": [
        "def CoeficienteCorrelacao(x, y):\n",
        "  Sx = 0\n",
        "  Sy = 0\n",
        "  Sxy = 0\n",
        "  Sxx = 0\n",
        "  Syy = 0\n",
        "  x_x_med = []\n",
        "  y_y_med = []\n",
        "  xx = []\n",
        "  yy = []\n",
        "  xy = []\n",
        "\n",
        "  for i in range(len(x)):\n",
        "      Sx += x[i]\n",
        "      Sy += y[i]\n",
        "  x_med = Sx/len(x)\n",
        "  y_med = Sy/len(y)\n",
        "\n",
        "  for i in range(len(x)):\n",
        "      x_x_med.append((x[i] - x_med))\n",
        "      y_y_med.append((y[i] - y_med))\n",
        "\n",
        "  for i in range(len(x)):\n",
        "      xx.append(x_x_med[i]**2)\n",
        "      yy.append(y_y_med[i]**2)\n",
        "      xy.append(y_y_med[i]*x_x_med[i])\n",
        "\n",
        "  # Calculo do Rho\n",
        "  for i in range(len(x)):\n",
        "      Sxy += xy[i]\n",
        "      Sxx += xx[i]\n",
        "      Syy += yy[i]\n",
        "  \n",
        "  return { 'rho': Sxy / math.sqrt(Sxx*Syy), 'sxx': Sxx, 'sxy': Sxy, 'xMed': x_med, 'yMed': y_med} # RHO\n"
      ]
    },
    {
      "attachments": {},
      "cell_type": "markdown",
      "metadata": {},
      "source": [
        "### Correlação entre X1 e Y\n",
        "(Lmebrando que esse valor é esperado entre -1 e 1)"
      ]
    },
    {
      "cell_type": "code",
      "execution_count": 69,
      "metadata": {
        "colab": {
          "base_uri": "https://localhost:8080/"
        },
        "id": "ViF4L4_kBg_T",
        "outputId": "8b766e59-eceb-4791-d1f4-63c41e2d3c62"
      },
      "outputs": [
        {
          "name": "stdout",
          "output_type": "stream",
          "text": [
            "O valor da correlação entre X1 e Y é: 0.4557444362371723\n"
          ]
        }
      ],
      "source": [
        "x1_rho = CoeficienteCorrelacao(x1,y)['rho']\n",
        "print(f\"O valor da correlação entre X1 e Y é: {x1_rho}\")"
      ]
    },
    {
      "attachments": {},
      "cell_type": "markdown",
      "metadata": {},
      "source": [
        "Comentário do resultado:<br>\n",
        "O valor da correlação entre x1 e y nos mostra que a possivel relação linear existente entre x1 e y tem uma tendência positiva porém não tão grande (próxima a 0.5)"
      ]
    },
    {
      "attachments": {},
      "cell_type": "markdown",
      "metadata": {},
      "source": [
        "### Correlação entre X2 e Y"
      ]
    },
    {
      "cell_type": "code",
      "execution_count": 70,
      "metadata": {},
      "outputs": [
        {
          "name": "stdout",
          "output_type": "stream",
          "text": [
            "O valor da correlação entre X1 e Y é: -0.058765963020454726\n"
          ]
        }
      ],
      "source": [
        "x2_rho = CoeficienteCorrelacao(x2,y)['rho']\n",
        "print(f\"O valor da correlação entre X1 e Y é: {x2_rho}\")"
      ]
    },
    {
      "attachments": {},
      "cell_type": "markdown",
      "metadata": {},
      "source": [
        "Comentário do resultado:<br>\n",
        "O valor da correlação entre x2 e y nos mostra que a possível relação linear existente entra x2 e y tem uma tendência negativa porém quase linear sem \"sinal\" pois é muito próxima a 0. "
      ]
    },
    {
      "attachments": {},
      "cell_type": "markdown",
      "metadata": {},
      "source": [
        "## c) Calcule o coeficiente de determinação R²(Y,Xi) entre a variável Y e cada uma das variáveis regressoras. Comente o resultado."
      ]
    },
    {
      "attachments": {},
      "cell_type": "markdown",
      "metadata": {},
      "source": [
        "### Coeficiente de Determinação entre X1 e Y\n",
        "Valor esperado entre 0 e 1 (Que diz quantos % da variabilidade de y é explicada por xi)"
      ]
    },
    {
      "cell_type": "code",
      "execution_count": 71,
      "metadata": {},
      "outputs": [
        {
          "name": "stdout",
          "output_type": "stream",
          "text": [
            "O valor do coeficiente da determinação entre X1 e Y é: 0.20770299116113802\n"
          ]
        }
      ],
      "source": [
        "coefDeterminationX1 = math.pow(x1_rho, 2)\n",
        "print(f\"O valor do coeficiente da determinação entre X1 e Y é: {coefDeterminationX1}\")"
      ]
    },
    {
      "attachments": {},
      "cell_type": "markdown",
      "metadata": {},
      "source": [
        "Comentário do resultado:<br>\n",
        "Com os dados escolhidos percebemos que pouco da variabilidade de y é explicada ou influênciada pelas variáveis regressoras, no caso de x1 apenas 20% dessa variabilidade."
      ]
    },
    {
      "attachments": {},
      "cell_type": "markdown",
      "metadata": {},
      "source": [
        "### Coeficiente de Determinação entre X2 e Y"
      ]
    },
    {
      "cell_type": "code",
      "execution_count": 72,
      "metadata": {},
      "outputs": [
        {
          "name": "stdout",
          "output_type": "stream",
          "text": [
            "O valor do coeficiente da determinação entre X1 e Y é: 0.003453438409721452\n"
          ]
        }
      ],
      "source": [
        "coefDeterminationX2 = math.pow(x2_rho, 2)\n",
        "print(f\"O valor do coeficiente da determinação entre X1 e Y é: {coefDeterminationX2}\")"
      ]
    },
    {
      "attachments": {},
      "cell_type": "markdown",
      "metadata": {},
      "source": [
        "Comentário do resultado:<br>\n",
        "Analogamente a variabilidade de y que é explicada por x2 é menor ainda, sendo entre 0 e 1%."
      ]
    },
    {
      "attachments": {},
      "cell_type": "markdown",
      "metadata": {},
      "source": [
        "## d) Encontre o hiperplano de quadrados mínimos (estime β0, β1, ..., βp)."
      ]
    },
    {
      "attachments": {},
      "cell_type": "markdown",
      "metadata": {},
      "source": [
        "Revisar"
      ]
    },
    {
      "attachments": {},
      "cell_type": "markdown",
      "metadata": {},
      "source": [
        "### Função para calcular Beta Chápeu"
      ]
    },
    {
      "cell_type": "code",
      "execution_count": 73,
      "metadata": {},
      "outputs": [],
      "source": [
        "def CalculaBeta(x, y):\n",
        "  matrix = np.array(x)\n",
        "  y = np.array(y)\n",
        "\n",
        "  transposta = np.transpose(matrix)\n",
        "  mult = np.dot(transposta,matrix)\n",
        "  inversa = np.linalg.inv(mult)\n",
        "  mult2 = np.dot(inversa, transposta)\n",
        "\n",
        "  return np.dot(mult2,y) #Beta"
      ]
    },
    {
      "attachments": {},
      "cell_type": "markdown",
      "metadata": {},
      "source": [
        "### Valores estimados de Beta Chápeu"
      ]
    },
    {
      "cell_type": "code",
      "execution_count": 74,
      "metadata": {},
      "outputs": [
        {
          "name": "stdout",
          "output_type": "stream",
          "text": [
            "Os Valores de Beta são:\n",
            "\n",
            "\t381688.0823883057\t0.005685266373947227\t-34.18806501727921"
          ]
        }
      ],
      "source": [
        "base = np.zeros(len(x1))\n",
        "for i in range(len(base)):\n",
        "    base[i] = 1\n",
        "\n",
        "x = []\n",
        "\n",
        "for i in range(len(x1)):\n",
        "    x.append([base[i], x1[i], x2[i]])\n",
        "\n",
        "betas = CalculaBeta(x, y)\n",
        "\n",
        "print(\"Os Valores de Beta são:\\n\")\n",
        "\n",
        "for beta in betas:\n",
        "    print(f\"\\t{beta}\", end=\"\")"
      ]
    },
    {
      "attachments": {},
      "cell_type": "markdown",
      "metadata": {},
      "source": [
        "### Plotando o hiperplano\n",
        "- Deixamos aqui um arquivo .py como gráfico pois esse seria interessante ver em 3d e poder mexer porém no arquivo .ipynb isso não é possível\n"
      ]
    },
    {
      "cell_type": "code",
      "execution_count": 75,
      "metadata": {},
      "outputs": [
        {
          "name": "stderr",
          "output_type": "stream",
          "text": [
            "C:\\Users\\55229\\AppData\\Local\\Temp\\ipykernel_12736\\1085466397.py:2: MatplotlibDeprecationWarning: Calling gca() with keyword arguments was deprecated in Matplotlib 3.4. Starting two minor releases later, gca() will take no keyword arguments. The gca() function should only be used to get the current axes, or if no axes exist, create new axes with default keyword arguments. To create a new axes with non-default arguments, use plt.axes() or plt.subplot().\n",
            "  grafico = plothiper.gca(projection='3d')\n"
          ]
        },
        {
          "data": {
            "image/png": "[encoded data removed]",
            "text/plain": [
              "<Figure size 432x288 with 1 Axes>"
            ]
          },
          "metadata": {
            "needs_background": "light"
          },
          "output_type": "display_data"
        }
      ],
      "source": [
        "plothiper = plt.figure()\n",
        "grafico = plothiper.gca(projection='3d')\n",
        "\n",
        "x1g = np.linspace(-10000,10000,100)\n",
        "x2g = np.linspace(-10000,10000,100)\n",
        "\n",
        "XG, YG = np.meshgrid(x1g, x2g)\n",
        "Z = betas[0] + XG*betas[1] + YG*betas[2]\n",
        "\n",
        "# grafico = plt.axes(projection='3d')\n",
        "\n",
        "grafico.plot_wireframe(XG,YG,Z)\n",
        "plt.show()"
      ]
    },
    {
      "attachments": {},
      "cell_type": "markdown",
      "metadata": {},
      "source": [
        "## e) Calcule os valores estimados de y (ou seja, ŷ) através do hiperplano estimado no item anterior."
      ]
    },
    {
      "cell_type": "code",
      "execution_count": 76,
      "metadata": {},
      "outputs": [
        {
          "name": "stdout",
          "output_type": "stream",
          "text": [
            "[8553048.574465377, 8195764.257605064, 2260066.46854021, 1928215.174873412, 1622594.3446054815, 1587549.0772222509, 1539737.4285285296, 1272837.4503720517, 1210985.8864749412, 1110872.96405924, 1089311.0032118554, 1027909.2701583904, 990394.7338532661, 957667.4823214859, 923334.2328944221, 886153.9512768479, 856361.0377197794, 856174.0896707018, 849511.5680891614, 773636.4996643886, 757622.4471574121, 748552.7923003453, 718486.9765776431, 716922.155609022, 716323.6738705651, 687764.8110528167, 682756.2053676103, 655099.9721329521, 668767.0821330617, 644267.2874467038, 632127.2325833297, 637576.2386041449, 629437.0722584984, 628894.1341526768, 628054.0592977868, 606099.0495339303, 599900.5676243991, 592663.5259903199, 595742.4331554323, 588186.0344755331, 578427.6451357949, 568698.077261627, 567713.6156803903, 566393.4797725605, 561827.3305150996, 556946.7882934604, 552885.85000026, 548553.2702377135, 539776.1050137959, 542350.285313483, 536614.2085778445, 529893.9985877636, 528027.5986944663, 520802.05750543356, 526213.9418637827, 517564.859713994, 494035.2688462977, 491667.3406002237, 497231.73393144057, 495524.4743038173, 488330.0417515451, 482906.8346112453, 489290.01659968204, 487937.03434851667, 484722.4079299671, 477439.34918594296, 479250.49994080147, 477422.36956513295, 461693.75127337046, 473371.12606620777, 473220.34370601753, 474052.4273486001, 470649.33264381945, 464634.1056336198, 454105.67027797166, 436987.6266136726, 446533.63029180514, 433026.7123292833, 446137.9493949254, 447489.4182232148, 434426.4647026831, 432198.187371441, 442466.7767573518, 444558.8331130602, 435542.65360906365, 437796.78610720544, 438233.44355615333, 435646.3500185865, 435897.5410054968, 435021.0014183638, 438177.99628694996, 434769.68023660645, 433743.8475453421, 432979.15050680056, 433329.7867497377, 433806.66945031245, 429106.36467731174, 431668.742937382, 427982.882417088, 417062.1736477068, 423331.75150616944, 423324.3330823795, 423050.59006241924, 180137.34520217226, 421833.3890245149, 421520.6612818352, 419061.6943191411, 420506.8321751867, 397723.22756575036, 417378.05981889146, 417490.17582891375, 407825.52120192314, 415428.29145966965, 129151.85312304628, 409911.2532621134, 412563.3990338211, 412348.586360503, 408827.1716026131, 411947.5161171972, 410016.16034846014, 381590.79530741106, 407176.7859611393, 408487.04172602174, 407234.89279298513, 408773.5350877932, 408443.11593463033, 407803.1701274874, 404155.612097948, 397687.93994490715, 402560.01508597145, 400427.6280168858, 402427.44718077086, 400596.2223118949, 400739.66584557237, 398175.04332393996, 400195.29078719637, 394973.0615076336, 389174.9821187584, 389531.39857284573, 394462.91999758856, 386988.40877586266, 395736.23147936945, 395976.57611296274, 387173.61655650625, 394864.2284475237, 393970.9409180291, 391420.3718074108, 390695.1057879558, 389985.70393626374, 390427.4198524462, 391408.83327261714, 314741.3104863897, 387897.9709330315, 380306.03479859716, 388168.9452247196, 386111.14543977333, 367514.30003620754, 384063.47225034627, 385979.3547101313, 385818.1364730928, 385101.90832123766, 374531.4798999569, 370643.96838409686, 386018.7442216878, 385381.2200554717, 384718.1289614582, -354631.32945144095, 383651.8748786511, 376961.3866194412, 384997.9768166662, 384880.40039143147, 380124.0309368684, 323143.03491498885, 337017.5061974143, 381332.79673712986, 375860.2429080905, 383358.9329990599, 382586.08414327947, 371719.3186034578, 383523.0285471632, 382570.92892787856, 383240.0191140237, 360483.8604123301, 382761.021778089, 380650.7734211773, 358342.24899914407, 375134.3426959297, 380421.4363132947, 372440.48241653625, 351392.6012829645, 371945.0376049817, 369970.643236052, 377339.3758126451, 376733.77185880806, 371010.9591428127, 372608.9917210115, 362021.0356234999, 377261.94248463196, 372093.8991975135, 374930.26607892255, 374619.958271235, 377076.9785970669, 376520.36970019556, 378815.0830622524, 372693.30137811264, 339444.0762329993, 370776.2594077185, 377741.420224984, 382010.72125502717, 372566.08842637413, 374981.5474653467, 380769.0889286753, 338820.12535592855, -518500.20312364725, 380505.87417202897, 356949.84255381365, 373767.96567463886, 362530.4647681308, 266700.04502502945, 374953.73144664476, 379101.8376637287, 380457.52041287365, 379292.1926048372, 376063.81807963626, 368319.0429396053, 379017.144250556, 363253.79694346, 365675.8110945617, 381175.5999707182, 380866.3553078426, 380007.0543019141, 381707.7420394268, 381492.1868707933, 377046.20339662605, 313213.94205706095]\n"
          ]
        }
      ],
      "source": [
        "yChapeu = []\n",
        "\n",
        "for i in range(x1_csv.shape[0]):\n",
        "    yChapeu.append(betas[0] + betas[1]*x1[i] + betas[2]*x2[i])\n",
        "\n",
        "print(yChapeu)"
      ]
    },
    {
      "attachments": {},
      "cell_type": "markdown",
      "metadata": {},
      "source": [
        "## f) Calcule os resíduos, ou seja, o erro de estimação y-ŷ."
      ]
    },
    {
      "cell_type": "code",
      "execution_count": 77,
      "metadata": {},
      "outputs": [
        {
          "name": "stdout",
          "output_type": "stream",
          "text": [
            "[835162.4255346227, -5222574.257605064, 6887353.53145979, -116645.17487341189, -851714.3446054815, 6770590.92277775, -628967.4285285296, -1142667.4503720517, 15165884.11352506, 833077.03594076, -724756.0032118554, -27909.270158390398, -692224.7338532661, 37782.51767851412, -613264.2328944221, 1380896.0487231521, -86731.03771977942, 772375.9103292982, -500951.5680891614, -262746.4996643886, -515692.44715741207, -200995.79230034526, -424346.9765776431, 168877.844390978, 496766.32612943486, -34474.81105281669, -113616.20536761032, -557869.9721329521, 440732.9178669383, -145467.28744670376, -432317.23258332966, 2099113.761395855, 1752302.9277415015, 1136153.865847323, -48734.05929778679, -171779.04953393026, 52959.43237560091, -286433.5259903199, 8497767.566844568, -141886.03447553306, 1571262.3548642052, -143298.07726162695, 712286.3843196097, 680306.5202274395, -233277.33051509957, 229433.21170653962, -325345.85000026005, -20583.27023771347, -396426.1050137959, 339699.714686517, 45180.79142215545, -57183.998587763635, -210027.5986944663, -400392.05750543356, 7156086.058136217, 749135.140286006, -458625.2688462977, -428957.3406002237, -223631.73393144057, 724665.5256961826, -258160.0417515451, -388626.8346112453, 254241.98340031796, 2211762.9656514833, 258667.5920700329, -370279.34918594296, -230890.49994080147, -293792.36956513295, -427973.75127337046, -280841.12606620777, -296700.34370601753, 785147.5726513999, 156690.66735618055, -77784.10563361982, -208385.67027797166, -412317.6266136726, -333773.63029180514, -407346.7123292833, -290777.9493949254, 635810.5817767852, -404146.4647026831, -404638.187371441, -336026.7767573518, 166393.16688693978, -387222.65360906365, -360556.78610720544, -309333.44355615333, -346866.3500185865, -344307.5410054968, -352363.0014183638, -27837.996286949958, -322879.68023660645, -350143.8475453421, -342449.15050680056, -293369.7867497377, -230896.66945031245, -346697.36467731174, 21191.25706261798, -340522.882417088, -395422.1736477068, -383815.75150616944, -368934.3330823795, -350870.59006241924, -179087.34520217226, -191033.38902451488, -24220.66128183517, -310501.6943191411, 1339033.1678248132, -387493.22756575036, -297038.05981889146, -225690.17582891375, -387105.52120192314, 54501.70854033035, -128451.85312304628, -367481.2532621134, -108673.39903382107, -70848.58636050299, -360739.1716026131, -46679.51611719723, -100516.16034846014, -375570.79530741106, -356116.7859611393, -312167.04172602174, -338344.89279298513, 214206.4649122068, -145133.11593463033, 622896.8298725126, -329815.612097948, -379867.93994490715, -346600.01508597145, -367577.6280168858, -332937.44718077086, -299596.2223118949, -225719.66584557237, -347175.04332393996, 1153364.7092128037, -366503.0615076336, -378344.9821187584, -377921.39857284573, -367062.91999758856, -378118.40877586266, -333062.23147936945, 427313.42388703726, -377053.61655650625, 171865.77155247628, -136300.9409180291, -361060.3718074108, -365475.1057879558, -369845.70393626374, -362307.4198524462, -329208.83327261714, -313981.3104863897, -359847.9709330315, -375176.03479859716, -345778.9452247196, -371241.14543977333, -365484.30003620754, -374823.47225034627, -368779.3547101313, -362638.1364730928, -366831.90832123766, -372031.4798999569, -368782.96838409686, -189168.74422168778, -347264.2200554717, -356728.1289614582, 354661.32945144095, -370201.8748786511, -374371.3866194412, -118997.9768166662, -228880.40039143147, -376094.0309368684, -322843.03491498885, -336697.5061974143, -376062.79673712986, -374170.2429080905, -360548.9329990599, -372576.08414327947, -370659.3186034578, -283273.0285471632, -370380.92892787856, -301040.0191140237, -360053.8604123301, -364481.021778089, -376990.7734211773, -357967.24899914407, -374174.3426959297, -377591.4363132947, -371830.48241653625, -351202.6012829645, -371405.0376049817, -369526.643236052, -376529.3758126451, -376033.77185880806, -370670.9591428127, -372218.9917210115, -361841.0356234999, -376541.94248463196, -371743.8991975135, -374470.26607892255, -374179.958271235, -376506.9785970669, -376050.36970019556, -378065.0830622524, -372453.30137811264, -339394.0762329993, -370596.2594077185, -377281.420224984, 28439.278744972835, -372366.08842637413, -374721.5474653467, -379373.0889286753, -338786.12535592855, 518501.20312364725, -379555.87417202897, -356896.84255381365, -373607.96567463886, -362470.4647681308, -266690.04502502945, -374803.73144664476, -378773.8376637287, -379997.52041287365, -379052.1926048372, -375973.81807963626, -368289.0429396053, -378877.144250556, -363233.79694346, -365654.8110945617, -380785.5999707182, -380636.3553078426, -379907.0543019141, -369537.7420394268, -381232.1868707933, -377036.20339662605, -313213.94205706095]\n"
          ]
        }
      ],
      "source": [
        "residuos = []\n",
        "\n",
        "for i in range(x1_csv.shape[0]):\n",
        "    residuos.append(y[i]-yChapeu[i])\n",
        "\n",
        "print(residuos)"
      ]
    },
    {
      "attachments": {},
      "cell_type": "markdown",
      "metadata": {},
      "source": [
        "## g) Faça o histograma dos erros de estimação encontrados no item anterior. Comente sobre sua característica."
      ]
    },
    {
      "cell_type": "code",
      "execution_count": 78,
      "metadata": {},
      "outputs": [
        {
          "data": {
            "image/png": "[encoded data removed]",
            "text/plain": [
              "<Figure size 1440x720 with 1 Axes>"
            ]
          },
          "metadata": {
            "needs_background": "light"
          },
          "output_type": "display_data"
        }
      ],
      "source": [
        "fig, axe = plt.subplots(figsize=(20,10))\n",
        "plt.hist(yChapeu, bins=100)\n",
        "plt.grid(True)\n",
        "# plt.xticks(np.arange(-400000, 900000, 100000))\n",
        "plt.yticks(np.arange(0, 85, 5))\n",
        "plt.show()"
      ]
    },
    {
      "attachments": {},
      "cell_type": "markdown",
      "metadata": {},
      "source": [
        "Podemos observar no histograma dos erros uma distruibuição normal e concentrada, onde a maioria dos erros está muito próxima a um mesmo valor, isso mostra que o ajuste tende a estar bem alinhado e centralizado quanto as valores reais."
      ]
    }
  ],
  "metadata": {
    "colab": {
      "collapsed_sections": [
        "gAJ5Ew6oCNas",
        "Y1m8nDDpCZCd",
        "hOplPWHVCll2"
      ],
      "provenance": []
    },
    "kernelspec": {
      "display_name": "Python 3",
      "language": "python",
      "name": "python3"
    },
    "language_info": {
      "codemirror_mode": {
        "name": "ipython",
        "version": 3
      },
      "file_extension": ".py",
      "mimetype": "text/x-python",
      "name": "python",
      "nbconvert_exporter": "python",
      "pygments_lexer": "ipython3",
      "version": "3.9.13"
    },
    "vscode": {
      "interpreter": {
        "hash": "193c86f2a5d11ecf02cefa4b7a4d03add9aa5fac1aaefae7fbafe5c005104cd1"
      }
    }
  },
  "nbformat": 4,
  "nbformat_minor": 0
}
